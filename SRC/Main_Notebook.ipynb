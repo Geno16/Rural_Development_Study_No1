{
 "cells": [
  {
   "cell_type": "code",
   "execution_count": 1,
   "source": [
    "from pyspark.sql import SparkSession as Session\n",
    "from pyspark import SparkConf as Conf\n",
    "from pyspark import SparkContext as Context"
   ],
   "outputs": [],
   "metadata": {}
  },
  {
   "cell_type": "code",
   "execution_count": 2,
   "source": [
    "import os\n",
    "os.environ['SPARK_LOCAL_IP']='192.168.1.2'\n",
    "os.environ['HADOOP_HOME']='/home/geno1664/Developments/Github_Samples/RDS-ENV/hadoop'\n",
    "os.environ['LD_LIBRARY_PATH']='$LD_LIBRARY_PATH:$HADOOP_HOME/lib/native'\n",
    "os.environ['PYSPARK_DRIVER_PYTHON']='jupyter'\n",
    "os.environ['PYSPARK_DRIVER_PYTHON_OPTS']='notebook'\n",
    "os.environ['PYSPARK_PYTHON']='python3'\n",
    "os.environ['PYARROW_IGNORE_TIMEZONE']='1'"
   ],
   "outputs": [],
   "metadata": {}
  },
  {
   "cell_type": "code",
   "execution_count": 3,
   "source": [
    "configuration = Conf().setAppName('RDS_1').setMaster('spark://GenoMachine:7077')\n",
    "configuration.set('spark.executor.memory','10G').set('spark.driver.memory', '2G').set('spark.cores.max', '8')"
   ],
   "outputs": [
    {
     "output_type": "execute_result",
     "data": {
      "text/plain": [
       "<pyspark.conf.SparkConf at 0x7f678e400760>"
      ]
     },
     "metadata": {},
     "execution_count": 3
    }
   ],
   "metadata": {}
  },
  {
   "cell_type": "code",
   "execution_count": 4,
   "source": [
    "context = Context(conf=configuration)"
   ],
   "outputs": [
    {
     "output_type": "stream",
     "name": "stderr",
     "text": [
      "21/09/05 12:14:10 WARN NativeCodeLoader: Unable to load native-hadoop library for your platform... using builtin-java classes where applicable\n",
      "Using Spark's default log4j profile: org/apache/spark/log4j-defaults.properties\n",
      "Setting default log level to \"WARN\".\n",
      "To adjust logging level use sc.setLogLevel(newLevel). For SparkR, use setLogLevel(newLevel).\n"
     ]
    }
   ],
   "metadata": {}
  },
  {
   "cell_type": "code",
   "execution_count": 5,
   "source": [
    "session = Session(context)"
   ],
   "outputs": [],
   "metadata": {}
  },
  {
   "cell_type": "code",
   "execution_count": 6,
   "source": [
    "from Functions.IO import CSV_File\n",
    "mainCSV = CSV_File(session, r'/home/geno1664/Developments/Github_Samples/RDS-ENV/Rural_Development_Study_No1/IO/County_Classificiations.csv')"
   ],
   "outputs": [
    {
     "output_type": "stream",
     "name": "stdout",
     "text": [
      "Now Reading: /home/geno1664/Developments/Github_Samples/RDS-ENV/Rural_Development_Study_No1/IO/County_Classificiations.csv\n"
     ]
    },
    {
     "output_type": "stream",
     "name": "stderr",
     "text": []
    }
   ],
   "metadata": {}
  },
  {
   "cell_type": "code",
   "execution_count": 7,
   "source": [
    "mainCSV.Schema()"
   ],
   "outputs": [
    {
     "output_type": "stream",
     "name": "stdout",
     "text": [
      "root\n",
      " |-- FIPStxt: integer (nullable = true)\n",
      " |-- State: string (nullable = true)\n",
      " |-- County: string (nullable = true)\n",
      " |-- RuralUrbanContinuumCode2013: integer (nullable = true)\n",
      " |-- UrbanInfluenceCode2013: integer (nullable = true)\n",
      " |-- RuralUrbanContinuumCode2003: integer (nullable = true)\n",
      " |-- UrbanInfluenceCode2003: integer (nullable = true)\n",
      " |-- Metro2013: integer (nullable = true)\n",
      " |-- Nonmetro2013: integer (nullable = true)\n",
      " |-- Micropolitan2013: integer (nullable = true)\n",
      " |-- Type_2015_Update: integer (nullable = true)\n",
      " |-- Type_2015_Farming_NO: integer (nullable = true)\n",
      " |-- Type_2015_Manufacturing_NO: integer (nullable = true)\n",
      " |-- Type_2015_Mining_NO: integer (nullable = true)\n",
      " |-- Type_2015_Government_NO: integer (nullable = true)\n",
      " |-- Type_2015_Recreation_NO: integer (nullable = true)\n",
      " |-- Low_Education_2015_update: integer (nullable = true)\n",
      " |-- Low_Employment_2015_update: integer (nullable = true)\n",
      " |-- Population_loss_2015_update: integer (nullable = true)\n",
      " |-- Retirement_Destination_2015_Update: integer (nullable = true)\n",
      " |-- Perpov_1980_0711: integer (nullable = true)\n",
      " |-- PersistentChildPoverty_1980_2011: integer (nullable = true)\n",
      " |-- Hipov: integer (nullable = true)\n",
      " |-- HiAmenity: integer (nullable = true)\n",
      " |-- HiCreativeClass2000: integer (nullable = true)\n",
      " |-- Gas_Change: integer (nullable = true)\n",
      " |-- Oil_Change: integer (nullable = true)\n",
      " |-- Oil_Gas_Change: integer (nullable = true)\n",
      " |-- Metro2003: integer (nullable = true)\n",
      " |-- NonmetroNotAdj2003: integer (nullable = true)\n",
      " |-- NonmetroAdj2003: integer (nullable = true)\n",
      " |-- Noncore2003: integer (nullable = true)\n",
      " |-- EconomicDependence2000: integer (nullable = true)\n",
      " |-- Nonmetro2003: integer (nullable = true)\n",
      " |-- Micropolitan2003: integer (nullable = true)\n",
      " |-- FarmDependent2003: integer (nullable = true)\n",
      " |-- ManufacturingDependent2000: integer (nullable = true)\n",
      " |-- LowEducation2000: integer (nullable = true)\n",
      " |-- RetirementDestination2000: integer (nullable = true)\n",
      " |-- PersistentPoverty2000: integer (nullable = true)\n",
      " |-- Noncore2013: integer (nullable = true)\n",
      " |-- Type_2015_Nonspecialized_NO: integer (nullable = true)\n",
      " |-- Metro_Adjacent2013: integer (nullable = true)\n",
      " |-- PersistentChildPoverty2004: integer (nullable = true)\n",
      " |-- RecreationDependent2000: integer (nullable = true)\n",
      "\n"
     ]
    }
   ],
   "metadata": {}
  },
  {
   "cell_type": "code",
   "execution_count": 8,
   "source": [
    "from databricks import koalas as ks\n",
    "mainDF = mainCSV.GetSparkDF().select('State','County','Type_2015_Farming_NO','Type_2015_Manufacturing_NO','Type_2015_Recreation_NO','Type_2015_Mining_NO')"
   ],
   "outputs": [],
   "metadata": {}
  },
  {
   "cell_type": "code",
   "execution_count": 9,
   "source": [
    "mainDF = mainDF.repartition(20)"
   ],
   "outputs": [],
   "metadata": {}
  },
  {
   "cell_type": "code",
   "execution_count": 10,
   "source": [
    "mainDF = mainDF.withColumnRenamed('Type_2015_Farming_NO', 'Farming')\n",
    "mainDF = mainDF.withColumnRenamed('Type_2015_Manufacturing_NO', 'Manufacturing')\n",
    "mainDF = mainDF.withColumnRenamed('Type_2015_Recreation_NO', 'Recreation')\n",
    "mainDF = mainDF.withColumnRenamed('Type_2015_Mining_NO', 'Mining')"
   ],
   "outputs": [],
   "metadata": {}
  },
  {
   "cell_type": "code",
   "execution_count": 11,
   "source": [
    "mainDF.show(n=25)"
   ],
   "outputs": [
    {
     "output_type": "stream",
     "name": "stdout",
     "text": [
      "+-----+------------+-------+-------------+----------+------+\n",
      "|State|      County|Farming|Manufacturing|Recreation|Mining|\n",
      "+-----+------------+-------+-------------+----------+------+\n",
      "|   MO|   Christian|      0|            0|         0|     0|\n",
      "|   WA|   Snohomish|      0|            1|         0|     0|\n",
      "|   MI|        Luce|      0|            0|         0|     0|\n",
      "|   LA|  Assumption|      0|            1|         0|     0|\n",
      "|   MI|      Macomb|      0|            1|         0|     0|\n",
      "|   MD|Queen Anne's|      0|            0|         1|     0|\n",
      "|   KS|        Linn|      1|            0|         0|     0|\n",
      "|   NC|     Halifax|      0|            0|         0|     0|\n",
      "|   PR|      Manatí|   null|         null|      null|  null|\n",
      "|   PR|     Humacao|   null|         null|      null|  null|\n",
      "|   NC|    Cherokee|      0|            0|         1|     0|\n",
      "|   TN|       Cocke|      0|            1|         0|     0|\n",
      "|   CO|  Las Animas|      0|            0|         0|     0|\n",
      "|   CO|        Park|      0|            0|         1|     0|\n",
      "|   DE|        Kent|      0|            0|         0|     0|\n",
      "|   IL|        Ford|      0|            0|         0|     0|\n",
      "|   IA|   Appanoose|      0|            0|         0|     0|\n",
      "|   TN|      Shelby|      0|            0|         0|     0|\n",
      "|   NE|    Saunders|      0|            0|         0|     0|\n",
      "|   VA|   Albemarle|      0|            0|         0|     0|\n",
      "|   KS|      Harper|      0|            0|         0|     1|\n",
      "|   KS|    Doniphan|      0|            0|         0|     0|\n",
      "|   VA|   Alleghany|      0|            1|         0|     0|\n",
      "|   TX|     Midland|      0|            0|         0|     1|\n",
      "|   PR|    Luquillo|   null|         null|      null|  null|\n",
      "+-----+------------+-------+-------------+----------+------+\n",
      "only showing top 25 rows\n",
      "\n"
     ]
    }
   ],
   "metadata": {}
  }
 ],
 "metadata": {
  "orig_nbformat": 4,
  "language_info": {
   "name": "python",
   "version": "3.8.10",
   "mimetype": "text/x-python",
   "codemirror_mode": {
    "name": "ipython",
    "version": 3
   },
   "pygments_lexer": "ipython3",
   "nbconvert_exporter": "python",
   "file_extension": ".py"
  },
  "kernelspec": {
   "name": "python3",
   "display_name": "Python 3.8.10 64-bit ('RDS-ENV': venv)"
  },
  "interpreter": {
   "hash": "bcb7c92ec30a48671b2bbe6ad838283083cf4acf6e28fba1bfae084ec93c4ac6"
  }
 },
 "nbformat": 4,
 "nbformat_minor": 2
}