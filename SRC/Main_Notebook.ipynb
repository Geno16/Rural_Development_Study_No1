{
 "cells": [
  {
   "cell_type": "code",
   "execution_count": null,
   "source": [
    "from pyspark.sql import SparkSession as Session\n",
    "from pyspark import SparkConf as Conf\n",
    "from pyspark import SparkContext as Context"
   ],
   "outputs": [],
   "metadata": {}
  },
  {
   "cell_type": "code",
   "execution_count": null,
   "source": [
    "import os\n",
    "os.environ['SPARK_LOCAL_IP']='192.168.1.2'\n",
    "os.environ['HADOOP_HOME']='/home/geno1664/Developments/Github_Samples/RDS-ENV/hadoop'\n",
    "os.environ['LD_LIBRARY_PATH']='$LD_LIBRARY_PATH:$HADOOP_HOME/lib/native'\n",
    "os.environ['PYSPARK_DRIVER_PYTHON']='jupyter'\n",
    "os.environ['PYSPARK_DRIVER_PYTHON_OPTS']='notebook'\n",
    "os.environ['PYSPARK_PYTHON']='python3'\n",
    "os.environ['PYARROW_IGNORE_TIMEZONE']='1'"
   ],
   "outputs": [],
   "metadata": {}
  },
  {
   "cell_type": "code",
   "execution_count": null,
   "source": [
    "configuration = Conf().setAppName('RDS_1').setMaster('spark://GenoMachine:7077')\n",
    "configuration.set('spark.executor.memory','10G').set('spark.driver.memory', '2G').set('spark.cores.max', '8')"
   ],
   "outputs": [],
   "metadata": {}
  },
  {
   "cell_type": "code",
   "execution_count": null,
   "source": [
    "context = Context(conf=configuration)"
   ],
   "outputs": [],
   "metadata": {}
  },
  {
   "cell_type": "code",
   "execution_count": null,
   "source": [
    "session = Session(context)"
   ],
   "outputs": [],
   "metadata": {}
  },
  {
   "cell_type": "code",
   "execution_count": null,
   "source": [
    "from Functions.IO import CSV_File\n",
    "mainCSV = CSV_File(session, r'/home/geno1664/Developments/Github_Samples/RDS-ENV/Rural_Development_Study_No1/IO/County_Classificiations.csv')"
   ],
   "outputs": [],
   "metadata": {}
  },
  {
   "cell_type": "code",
   "execution_count": null,
   "source": [
    "mainCSV.Schema()"
   ],
   "outputs": [],
   "metadata": {}
  },
  {
   "cell_type": "code",
   "execution_count": null,
   "source": [
    "from databricks import koalas as ks\n",
    "mainDF = mainCSV.GetSparkDF().select('State','County','Population_loss_2015_update','Type_2015_Farming_NO','Type_2015_Manufacturing_NO','Type_2015_Recreation_NO','Type_2015_Mining_NO')"
   ],
   "outputs": [],
   "metadata": {}
  },
  {
   "cell_type": "code",
   "execution_count": null,
   "source": [
    "mainDF = mainDF.repartition(50, 'State')"
   ],
   "outputs": [],
   "metadata": {}
  },
  {
   "cell_type": "code",
   "execution_count": null,
   "source": [
    "mainDF = mainDF.withColumnRenamed('Type_2015_Farming_NO', 'Farming')\n",
    "mainDF = mainDF.withColumnRenamed('Type_2015_Manufacturing_NO', 'Manufacturing')\n",
    "mainDF = mainDF.withColumnRenamed('Type_2015_Recreation_NO', 'Recreation')\n",
    "mainDF = mainDF.withColumnRenamed('Type_2015_Mining_NO', 'Mining')\n",
    "mainDF = mainDF.withColumnRenamed('Population_loss_2015_update', 'Pop_Loss')"
   ],
   "outputs": [],
   "metadata": {}
  },
  {
   "cell_type": "code",
   "execution_count": null,
   "source": [
    "mainDF = mainDF.dropna(how='any', subset=['State', 'County', 'Pop_Loss'])\n",
    "mainDF = mainDF.dropna(how='all', subset=['Farming', 'Manufacturing', 'Recreation', 'Mining'])"
   ],
   "outputs": [],
   "metadata": {}
  },
  {
   "cell_type": "code",
   "execution_count": null,
   "source": [
    "mainDF.show(n=25)"
   ],
   "outputs": [],
   "metadata": {}
  },
  {
   "cell_type": "code",
   "execution_count": null,
   "source": [
    "farmingDF = mainDF.select('Pop_Loss', 'Farming').groupBy('Farming').mean()\n",
    "manufacturingDF = mainDF.select('Pop_Loss', 'Manufacturing').groupBy('Manufacturing').mean()\n",
    "recreationDF = mainDF.select('Pop_Loss', 'Recreation').groupBy('Recreation').mean()\n",
    "miningDF = mainDF.select('Pop_Loss', 'Mining').groupBy('Mining').mean()"
   ],
   "outputs": [],
   "metadata": {}
  },
  {
   "cell_type": "code",
   "execution_count": null,
   "source": [
    "Pop_Losses = {}"
   ],
   "outputs": [],
   "metadata": {}
  },
  {
   "cell_type": "code",
   "execution_count": null,
   "source": [
    "Pop_Losses['Farming'] = farmingDF.first()['avg(Pop_Loss)']\n",
    "Pop_Losses['Manufacturing'] = manufacturingDF.first()['avg(Pop_Loss)']\n",
    "Pop_Losses['Recreation'] = recreationDF.first()['avg(Pop_Loss)']\n",
    "Pop_Losses['mining'] = miningDF.first()['avg(Pop_Loss)']"
   ],
   "outputs": [],
   "metadata": {}
  },
  {
   "cell_type": "code",
   "execution_count": null,
   "source": [
    "print(Pop_Losses)"
   ],
   "outputs": [],
   "metadata": {}
  }
 ],
 "metadata": {
  "orig_nbformat": 4,
  "language_info": {
   "name": "python",
   "version": "3.8.10",
   "mimetype": "text/x-python",
   "codemirror_mode": {
    "name": "ipython",
    "version": 3
   },
   "pygments_lexer": "ipython3",
   "nbconvert_exporter": "python",
   "file_extension": ".py"
  },
  "kernelspec": {
   "name": "python3",
   "display_name": "Python 3.8.10 64-bit ('RDS-ENV': venv)"
  },
  "interpreter": {
   "hash": "bcb7c92ec30a48671b2bbe6ad838283083cf4acf6e28fba1bfae084ec93c4ac6"
  }
 },
 "nbformat": 4,
 "nbformat_minor": 2
}